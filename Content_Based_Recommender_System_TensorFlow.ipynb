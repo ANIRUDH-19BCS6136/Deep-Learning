{
  "nbformat": 4,
  "nbformat_minor": 0,
  "metadata": {
    "colab": {
      "name": "Content-Based Recommender System TensorFlow.ipynb",
      "provenance": [],
      "collapsed_sections": [],
      "authorship_tag": "ABX9TyP7nmY0eF+I0zbw5bTXT+ve"
    },
    "kernelspec": {
      "name": "python3",
      "display_name": "Python 3"
    },
    "language_info": {
      "name": "python"
    }
  },
  "cells": [
    {
      "cell_type": "markdown",
      "metadata": {
        "id": "cXgcXzdQojZB"
      },
      "source": [
        "# Implemented a simple recommender system with TensorFlow"
      ]
    },
    {
      "cell_type": "code",
      "metadata": {
        "id": "fNQN-UlPUZpR"
      },
      "source": [
        "import numpy as np\n",
        "import tensorflow as tf"
      ],
      "execution_count": null,
      "outputs": []
    },
    {
      "cell_type": "code",
      "metadata": {
        "colab": {
          "base_uri": "https://localhost:8080/"
        },
        "id": "OlepjgVOUipL",
        "outputId": "dee31242-4907-4db5-bb69-0bae734ed25e"
      },
      "source": [
        "print(tf.__version__)"
      ],
      "execution_count": null,
      "outputs": [
        {
          "output_type": "stream",
          "name": "stdout",
          "text": [
            "2.6.0\n"
          ]
        }
      ]
    },
    {
      "cell_type": "markdown",
      "metadata": {
        "id": "OuovFVkll0fj"
      },
      "source": [
        "Here we have defined users and the list of projects with all the available tags inside the project list."
      ]
    },
    {
      "cell_type": "code",
      "metadata": {
        "id": "gMxM55nvVDdw"
      },
      "source": [
        "users = ['Ajay', 'Yogesh', 'Anirudh', 'Rohan']\n",
        "projects = ['Weather app', 'Chatbot', 'Object Detector', 'Airline Reservation System', 'TimeTable Generator', 'Space Shooter Game']\n",
        "tags = ['Android', 'Web Dev', 'TensorFlow', 'Game Dev', 'Python']"
      ],
      "execution_count": null,
      "outputs": []
    },
    {
      "cell_type": "markdown",
      "metadata": {
        "id": "ladV46TJmByx"
      },
      "source": [
        "The length and number of recommendations to be provided to the users is defined."
      ]
    },
    {
      "cell_type": "code",
      "metadata": {
        "id": "tiOGSXbhVSP4"
      },
      "source": [
        "num_users = len(users)\n",
        "num_proj = len(projects)\n",
        "num_tags = len(tags)\n",
        "num_recommendations = 2"
      ],
      "execution_count": null,
      "outputs": []
    },
    {
      "cell_type": "markdown",
      "metadata": {
        "id": "OIXzfi2lmggh"
      },
      "source": [
        "A rating matrix is being made where users have rated the project respectively WITH a project matrix which contains tags inside each project."
      ]
    },
    {
      "cell_type": "code",
      "metadata": {
        "id": "w70Mg-W3XE20"
      },
      "source": [
        "#ratings for projects\n",
        "users_proj = tf.constant([\n",
        "                            [4,  6,  7,  0, 0, 0],\n",
        "                            [0,  0, 10,  0, 8, 3],\n",
        "                            [0,  6,  0,  0, 3, 6],\n",
        "                            [10, 9,  0,  5, 0, 2]], dtype=tf.float32)\n",
        "\n",
        "#encoding of the project's tags\n",
        "proj_tags = tf.constant([\n",
        "                         [1, 0, 0, 0, 0],\n",
        "                         [1, 0, 1, 0, 1],\n",
        "                         [0, 0, 1, 0, 1],\n",
        "                         [0, 1, 0, 0, 1],\n",
        "                         [0, 1, 0, 0, 0],\n",
        "                         [0, 1, 0, 1, 1]], dtype=tf.float32)"
      ],
      "execution_count": null,
      "outputs": []
    },
    {
      "cell_type": "markdown",
      "metadata": {
        "id": "4w6WBB0dmn3Q"
      },
      "source": [
        "A matrix is being mapped between users and the projects\n"
      ]
    },
    {
      "cell_type": "code",
      "metadata": {
        "colab": {
          "base_uri": "https://localhost:8080/"
        },
        "id": "YCPEdJCKaHXN",
        "outputId": "17244a38-b610-40bf-df5b-7d972eb0fc55"
      },
      "source": [
        "users_tags = tf.matmul(users_proj,proj_tags)\n",
        "users_tags"
      ],
      "execution_count": null,
      "outputs": [
        {
          "output_type": "execute_result",
          "data": {
            "text/plain": [
              "<tf.Tensor: shape=(4, 5), dtype=float32, numpy=\n",
              "array([[10.,  0., 13.,  0., 13.],\n",
              "       [ 0., 11., 10.,  3., 13.],\n",
              "       [ 6.,  9.,  6.,  6., 12.],\n",
              "       [19.,  7.,  9.,  2., 16.]], dtype=float32)>"
            ]
          },
          "metadata": {},
          "execution_count": 11
        }
      ]
    },
    {
      "cell_type": "code",
      "metadata": {
        "colab": {
          "base_uri": "https://localhost:8080/"
        },
        "id": "6kXlHh7IaZmn",
        "outputId": "5a1b3518-399f-472c-8494-97ad5250f206"
      },
      "source": [
        "#scaling\n",
        "users_tags = users_tags/tf.reduce_sum(users_tags, axis=1,keepdims=True)\n",
        "users_tags"
      ],
      "execution_count": null,
      "outputs": [
        {
          "output_type": "execute_result",
          "data": {
            "text/plain": [
              "<tf.Tensor: shape=(4, 5), dtype=float32, numpy=\n",
              "array([[0.2777778 , 0.        , 0.3611111 , 0.        , 0.3611111 ],\n",
              "       [0.        , 0.2972973 , 0.27027026, 0.08108108, 0.35135135],\n",
              "       [0.15384616, 0.23076923, 0.15384616, 0.15384616, 0.30769232],\n",
              "       [0.35849056, 0.13207547, 0.16981132, 0.03773585, 0.3018868 ]],\n",
              "      dtype=float32)>"
            ]
          },
          "metadata": {},
          "execution_count": 14
        }
      ]
    },
    {
      "cell_type": "code",
      "metadata": {
        "colab": {
          "base_uri": "https://localhost:8080/"
        },
        "id": "2PVlujQgbmgF",
        "outputId": "c1e24541-8aa8-4518-dcab-9c6c2120739c"
      },
      "source": [
        "#selection the top ones\n",
        "top_users_tags = tf.nn.top_k(users_tags, num_tags)[1]\n",
        "top_users_tags"
      ],
      "execution_count": null,
      "outputs": [
        {
          "output_type": "execute_result",
          "data": {
            "text/plain": [
              "<tf.Tensor: shape=(4, 5), dtype=int32, numpy=\n",
              "array([[2, 4, 0, 1, 3],\n",
              "       [4, 1, 2, 3, 0],\n",
              "       [4, 1, 0, 2, 3],\n",
              "       [0, 4, 2, 1, 3]], dtype=int32)>"
            ]
          },
          "metadata": {},
          "execution_count": 15
        }
      ]
    },
    {
      "cell_type": "code",
      "metadata": {
        "colab": {
          "base_uri": "https://localhost:8080/"
        },
        "id": "3c0ts-nDcLkt",
        "outputId": "11641cae-9f69-4f3a-c1f5-97a825ba44e9"
      },
      "source": [
        "for i in range(num_users):\n",
        "  tags_names = [tags[int(index)] for index in top_users_tags[i]]\n",
        "  print('{}: {}'.format(users[i], tags_names))"
      ],
      "execution_count": null,
      "outputs": [
        {
          "output_type": "stream",
          "name": "stdout",
          "text": [
            "Ajay: ['TensorFlow', 'Python', 'Android', 'Web Dev', 'Game Dev']\n",
            "Yogesh: ['Python', 'Web Dev', 'TensorFlow', 'Game Dev', 'Android']\n",
            "Anirudh: ['Python', 'Web Dev', 'Android', 'TensorFlow', 'Game Dev']\n",
            "Rohan: ['Android', 'Python', 'TensorFlow', 'Web Dev', 'Game Dev']\n"
          ]
        }
      ]
    },
    {
      "cell_type": "markdown",
      "metadata": {
        "id": "f7UyOEtZmzFd"
      },
      "source": [
        "Here the ratings is being provided for all the users to the all projects."
      ]
    },
    {
      "cell_type": "code",
      "metadata": {
        "colab": {
          "base_uri": "https://localhost:8080/"
        },
        "id": "uIlBQd7OgmhG",
        "outputId": "82c23cb8-a291-4464-b341-28ba1b66598c"
      },
      "source": [
        "users_ratings = tf.matmul(users_tags, tf.transpose(proj_tags))\n",
        "users_ratings"
      ],
      "execution_count": null,
      "outputs": [
        {
          "output_type": "execute_result",
          "data": {
            "text/plain": [
              "<tf.Tensor: shape=(4, 6), dtype=float32, numpy=\n",
              "array([[0.2777778 , 1.        , 0.7222222 , 0.3611111 , 0.        ,\n",
              "        0.3611111 ],\n",
              "       [0.        , 0.6216216 , 0.6216216 , 0.6486486 , 0.2972973 ,\n",
              "        0.7297298 ],\n",
              "       [0.15384616, 0.61538464, 0.4615385 , 0.53846157, 0.23076923,\n",
              "        0.6923077 ],\n",
              "       [0.35849056, 0.8301887 , 0.4716981 , 0.4339623 , 0.13207547,\n",
              "        0.4716981 ]], dtype=float32)>"
            ]
          },
          "metadata": {},
          "execution_count": 17
        }
      ]
    },
    {
      "cell_type": "markdown",
      "metadata": {
        "id": "WfIOmz0lnB2g"
      },
      "source": [
        "The ratings are removed for those projects users has already checked and rated."
      ]
    },
    {
      "cell_type": "code",
      "metadata": {
        "colab": {
          "base_uri": "https://localhost:8080/"
        },
        "id": "9QxDHbi-hNt_",
        "outputId": "513c4b63-2b5c-484b-8c78-c08802088abe"
      },
      "source": [
        "users_ratings_new = tf.where(tf.equal(users_proj, tf.zeros_like(users_proj)), users_ratings, \n",
        "                             tf.zeros_like(tf.cast(users_proj, tf.float32)))\n",
        "users_ratings_new"
      ],
      "execution_count": null,
      "outputs": [
        {
          "output_type": "execute_result",
          "data": {
            "text/plain": [
              "<tf.Tensor: shape=(4, 6), dtype=float32, numpy=\n",
              "array([[0.        , 0.        , 0.        , 0.3611111 , 0.        ,\n",
              "        0.3611111 ],\n",
              "       [0.        , 0.6216216 , 0.        , 0.6486486 , 0.        ,\n",
              "        0.        ],\n",
              "       [0.15384616, 0.        , 0.4615385 , 0.53846157, 0.        ,\n",
              "        0.        ],\n",
              "       [0.        , 0.        , 0.4716981 , 0.        , 0.13207547,\n",
              "        0.        ]], dtype=float32)>"
            ]
          },
          "metadata": {},
          "execution_count": 19
        }
      ]
    },
    {
      "cell_type": "code",
      "metadata": {
        "colab": {
          "base_uri": "https://localhost:8080/"
        },
        "id": "-vHcpHP5h8Ft",
        "outputId": "d88dbdfa-a1e2-46ee-8aee-a1e3b622ab78"
      },
      "source": [
        "top_projects = tf.nn.top_k(users_ratings_new, num_recommendations)[1]\n",
        "top_projects"
      ],
      "execution_count": null,
      "outputs": [
        {
          "output_type": "execute_result",
          "data": {
            "text/plain": [
              "<tf.Tensor: shape=(4, 2), dtype=int32, numpy=\n",
              "array([[3, 5],\n",
              "       [3, 1],\n",
              "       [3, 2],\n",
              "       [2, 4]], dtype=int32)>"
            ]
          },
          "metadata": {},
          "execution_count": 21
        }
      ]
    },
    {
      "cell_type": "markdown",
      "metadata": {
        "id": "KCk0D6DXnIfg"
      },
      "source": [
        "Final recommended output is provided."
      ]
    },
    {
      "cell_type": "code",
      "metadata": {
        "colab": {
          "base_uri": "https://localhost:8080/"
        },
        "id": "COnATxpTiOin",
        "outputId": "e1365350-32db-49e9-e3f6-090c2caf5222"
      },
      "source": [
        "for i in range(num_users):\n",
        "  proj_names = [projects[index] for index in top_projects[i]]\n",
        "  print('{}: {}'.format(users[i],proj_names))"
      ],
      "execution_count": null,
      "outputs": [
        {
          "output_type": "stream",
          "name": "stdout",
          "text": [
            "Ajay: ['Airline Reservation System', 'Space Shooter Game']\n",
            "Yogesh: ['Airline Reservation System', 'Chatbot']\n",
            "Anirudh: ['Airline Reservation System', 'Object Detector']\n",
            "Rohan: ['Object Detector', 'TimeTable Generator']\n"
          ]
        }
      ]
    }
  ]
}