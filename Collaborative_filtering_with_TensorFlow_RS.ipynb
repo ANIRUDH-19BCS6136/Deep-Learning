{
  "nbformat": 4,
  "nbformat_minor": 0,
  "metadata": {
    "colab": {
      "name": "Collaborative filtering with TensorFlow RS.ipynb",
      "provenance": [],
      "authorship_tag": "ABX9TyMl35KaIdwqtEMbDlFTQ5m8"
    },
    "kernelspec": {
      "name": "python3",
      "display_name": "Python 3"
    },
    "language_info": {
      "name": "python"
    }
  },
  "cells": [
    {
      "cell_type": "markdown",
      "metadata": {
        "id": "XczaKWJ3FmLh"
      },
      "source": [
        "# GDSC Volunteer Program \n",
        "## TensorFlow Task\n",
        "\n",
        "## Author: Anirudh Roy"
      ]
    },
    {
      "cell_type": "code",
      "metadata": {
        "id": "GO6jRBqO1BPX"
      },
      "source": [
        "import warnings\n",
        "warnings.filterwarnings('ignore')"
      ],
      "execution_count": 39,
      "outputs": []
    },
    {
      "cell_type": "code",
      "metadata": {
        "id": "GP1Xu_Mp1PrO"
      },
      "source": [
        "import pandas as pd\n",
        "import numpy as np\n",
        "import tensorflow as tf"
      ],
      "execution_count": 40,
      "outputs": []
    },
    {
      "cell_type": "markdown",
      "metadata": {
        "id": "Eo4n9G3KHnDD"
      },
      "source": [
        "### Loading the dataset"
      ]
    },
    {
      "cell_type": "code",
      "metadata": {
        "colab": {
          "base_uri": "https://localhost:8080/",
          "height": 204
        },
        "id": "U88KGUFY1bXC",
        "outputId": "73aba40a-6adc-4f48-ee8c-d485c48f2b48"
      },
      "source": [
        "header = ['user_id','proj_id','rating','timestamp']\n",
        "url = \"https://files.grouplens.org/datasets/movielens/ml-100k/u.data\"\n",
        "dataset = pd.read_csv(url , sep = '\\t', names = header)\n",
        "dataset.head()"
      ],
      "execution_count": 41,
      "outputs": [
        {
          "output_type": "execute_result",
          "data": {
            "text/html": [
              "<div>\n",
              "<style scoped>\n",
              "    .dataframe tbody tr th:only-of-type {\n",
              "        vertical-align: middle;\n",
              "    }\n",
              "\n",
              "    .dataframe tbody tr th {\n",
              "        vertical-align: top;\n",
              "    }\n",
              "\n",
              "    .dataframe thead th {\n",
              "        text-align: right;\n",
              "    }\n",
              "</style>\n",
              "<table border=\"1\" class=\"dataframe\">\n",
              "  <thead>\n",
              "    <tr style=\"text-align: right;\">\n",
              "      <th></th>\n",
              "      <th>user_id</th>\n",
              "      <th>proj_id</th>\n",
              "      <th>rating</th>\n",
              "      <th>timestamp</th>\n",
              "    </tr>\n",
              "  </thead>\n",
              "  <tbody>\n",
              "    <tr>\n",
              "      <th>0</th>\n",
              "      <td>196</td>\n",
              "      <td>242</td>\n",
              "      <td>3</td>\n",
              "      <td>881250949</td>\n",
              "    </tr>\n",
              "    <tr>\n",
              "      <th>1</th>\n",
              "      <td>186</td>\n",
              "      <td>302</td>\n",
              "      <td>3</td>\n",
              "      <td>891717742</td>\n",
              "    </tr>\n",
              "    <tr>\n",
              "      <th>2</th>\n",
              "      <td>22</td>\n",
              "      <td>377</td>\n",
              "      <td>1</td>\n",
              "      <td>878887116</td>\n",
              "    </tr>\n",
              "    <tr>\n",
              "      <th>3</th>\n",
              "      <td>244</td>\n",
              "      <td>51</td>\n",
              "      <td>2</td>\n",
              "      <td>880606923</td>\n",
              "    </tr>\n",
              "    <tr>\n",
              "      <th>4</th>\n",
              "      <td>166</td>\n",
              "      <td>346</td>\n",
              "      <td>1</td>\n",
              "      <td>886397596</td>\n",
              "    </tr>\n",
              "  </tbody>\n",
              "</table>\n",
              "</div>"
            ],
            "text/plain": [
              "   user_id  proj_id  rating  timestamp\n",
              "0      196      242       3  881250949\n",
              "1      186      302       3  891717742\n",
              "2       22      377       1  878887116\n",
              "3      244       51       2  880606923\n",
              "4      166      346       1  886397596"
            ]
          },
          "metadata": {},
          "execution_count": 41
        }
      ]
    },
    {
      "cell_type": "code",
      "metadata": {
        "colab": {
          "base_uri": "https://localhost:8080/"
        },
        "id": "fGLd41dH8oeY",
        "outputId": "f6d2f3a1-5ec4-4e27-ee0e-0b0fb50e11e0"
      },
      "source": [
        "dataset.shape"
      ],
      "execution_count": 42,
      "outputs": [
        {
          "output_type": "execute_result",
          "data": {
            "text/plain": [
              "(100000, 4)"
            ]
          },
          "metadata": {},
          "execution_count": 42
        }
      ]
    },
    {
      "cell_type": "code",
      "metadata": {
        "colab": {
          "base_uri": "https://localhost:8080/",
          "height": 297
        },
        "id": "SnLQAX8TawIh",
        "outputId": "ab429efd-8add-4270-b7c1-bb802aa1fc91"
      },
      "source": [
        "dataset.describe()"
      ],
      "execution_count": 44,
      "outputs": [
        {
          "output_type": "execute_result",
          "data": {
            "text/html": [
              "<div>\n",
              "<style scoped>\n",
              "    .dataframe tbody tr th:only-of-type {\n",
              "        vertical-align: middle;\n",
              "    }\n",
              "\n",
              "    .dataframe tbody tr th {\n",
              "        vertical-align: top;\n",
              "    }\n",
              "\n",
              "    .dataframe thead th {\n",
              "        text-align: right;\n",
              "    }\n",
              "</style>\n",
              "<table border=\"1\" class=\"dataframe\">\n",
              "  <thead>\n",
              "    <tr style=\"text-align: right;\">\n",
              "      <th></th>\n",
              "      <th>user_id</th>\n",
              "      <th>proj_id</th>\n",
              "      <th>rating</th>\n",
              "      <th>timestamp</th>\n",
              "    </tr>\n",
              "  </thead>\n",
              "  <tbody>\n",
              "    <tr>\n",
              "      <th>count</th>\n",
              "      <td>100000.00000</td>\n",
              "      <td>100000.000000</td>\n",
              "      <td>100000.000000</td>\n",
              "      <td>1.000000e+05</td>\n",
              "    </tr>\n",
              "    <tr>\n",
              "      <th>mean</th>\n",
              "      <td>462.48475</td>\n",
              "      <td>425.530130</td>\n",
              "      <td>3.529860</td>\n",
              "      <td>8.835289e+08</td>\n",
              "    </tr>\n",
              "    <tr>\n",
              "      <th>std</th>\n",
              "      <td>266.61442</td>\n",
              "      <td>330.798356</td>\n",
              "      <td>1.125674</td>\n",
              "      <td>5.343856e+06</td>\n",
              "    </tr>\n",
              "    <tr>\n",
              "      <th>min</th>\n",
              "      <td>1.00000</td>\n",
              "      <td>1.000000</td>\n",
              "      <td>1.000000</td>\n",
              "      <td>8.747247e+08</td>\n",
              "    </tr>\n",
              "    <tr>\n",
              "      <th>25%</th>\n",
              "      <td>254.00000</td>\n",
              "      <td>175.000000</td>\n",
              "      <td>3.000000</td>\n",
              "      <td>8.794487e+08</td>\n",
              "    </tr>\n",
              "    <tr>\n",
              "      <th>50%</th>\n",
              "      <td>447.00000</td>\n",
              "      <td>322.000000</td>\n",
              "      <td>4.000000</td>\n",
              "      <td>8.828269e+08</td>\n",
              "    </tr>\n",
              "    <tr>\n",
              "      <th>75%</th>\n",
              "      <td>682.00000</td>\n",
              "      <td>631.000000</td>\n",
              "      <td>4.000000</td>\n",
              "      <td>8.882600e+08</td>\n",
              "    </tr>\n",
              "    <tr>\n",
              "      <th>max</th>\n",
              "      <td>943.00000</td>\n",
              "      <td>1682.000000</td>\n",
              "      <td>5.000000</td>\n",
              "      <td>8.932866e+08</td>\n",
              "    </tr>\n",
              "  </tbody>\n",
              "</table>\n",
              "</div>"
            ],
            "text/plain": [
              "            user_id        proj_id         rating     timestamp\n",
              "count  100000.00000  100000.000000  100000.000000  1.000000e+05\n",
              "mean      462.48475     425.530130       3.529860  8.835289e+08\n",
              "std       266.61442     330.798356       1.125674  5.343856e+06\n",
              "min         1.00000       1.000000       1.000000  8.747247e+08\n",
              "25%       254.00000     175.000000       3.000000  8.794487e+08\n",
              "50%       447.00000     322.000000       4.000000  8.828269e+08\n",
              "75%       682.00000     631.000000       4.000000  8.882600e+08\n",
              "max       943.00000    1682.000000       5.000000  8.932866e+08"
            ]
          },
          "metadata": {},
          "execution_count": 44
        }
      ]
    },
    {
      "cell_type": "code",
      "metadata": {
        "id": "hdyluKjsbhm2"
      },
      "source": [
        "dataset.user_id = dataset.user_id.astype('category').cat.codes.values #tensorflow only takes object type data\n",
        "dataset.proj_id = dataset.proj_id.astype('category').cat.codes.values #thus converting the data into category"
      ],
      "execution_count": 46,
      "outputs": []
    },
    {
      "cell_type": "code",
      "metadata": {
        "id": "cjIV28YebybI"
      },
      "source": [
        "from sklearn.model_selection import train_test_split\n",
        "train, test = train_test_split(dataset, test_size=0.2)"
      ],
      "execution_count": 47,
      "outputs": []
    },
    {
      "cell_type": "code",
      "metadata": {
        "id": "3etwLraJb7Fm"
      },
      "source": [
        "from tensorflow import keras\n",
        "from tensorflow.keras.optimizers import Adam"
      ],
      "execution_count": 48,
      "outputs": []
    },
    {
      "cell_type": "code",
      "metadata": {
        "id": "GgwaivY9cCuk"
      },
      "source": [
        "n_users, n_project = len(dataset.user_id.unique()), len(dataset.proj_id.unique())\n",
        "n_latent_factors = 20 #the output dimension of our matrix"
      ],
      "execution_count": 49,
      "outputs": []
    },
    {
      "cell_type": "markdown",
      "metadata": {
        "id": "wGtI-3QAH7k3"
      },
      "source": [
        "### Defining Layers"
      ]
    },
    {
      "cell_type": "code",
      "metadata": {
        "id": "faqRt_4KcOU0"
      },
      "source": [
        "proj_input = keras.layers.Input(shape=[1],name='Item')\n",
        "proj_embedding = keras.layers.Embedding(n_project + 1, n_latent_factors, name='Project-Embedding')(proj_input)\n",
        "proj_vec = keras.layers.Flatten(name='Flattenproject')(proj_embedding)\n",
        "user_input = keras.layers.Input(shape=[1],name='User')\n",
        "user_embedding = keras.layers.Embedding(n_users + 1, n_latent_factors,name='User-Embedding')(user_input)\n",
        "user_vec = keras.layers.Flatten(name='FlattenUsers')(user_embedding)\n",
        "\n",
        "prod = keras.layers.dot([proj_vec, user_vec], axes=1,name='DotProduct')\n",
        "model = keras.Model([user_input, proj_input], prod)"
      ],
      "execution_count": 51,
      "outputs": []
    },
    {
      "cell_type": "code",
      "metadata": {
        "id": "L6LrsrFUcbFW"
      },
      "source": [
        "model.compile(optimizer='adam', loss='mean_squared_error', metrics=['mae', 'mse'])"
      ],
      "execution_count": 52,
      "outputs": []
    },
    {
      "cell_type": "code",
      "metadata": {
        "colab": {
          "base_uri": "https://localhost:8080/"
        },
        "id": "GuBNYYgIcfXk",
        "outputId": "32f901c1-8457-471c-fa15-17d46120f1b3"
      },
      "source": [
        "model.summary()"
      ],
      "execution_count": 53,
      "outputs": [
        {
          "output_type": "stream",
          "name": "stdout",
          "text": [
            "Model: \"model_2\"\n",
            "__________________________________________________________________________________________________\n",
            "Layer (type)                    Output Shape         Param #     Connected to                     \n",
            "==================================================================================================\n",
            "Item (InputLayer)               [(None, 1)]          0                                            \n",
            "__________________________________________________________________________________________________\n",
            "User (InputLayer)               [(None, 1)]          0                                            \n",
            "__________________________________________________________________________________________________\n",
            "Project-Embedding (Embedding)   (None, 1, 20)        33660       Item[0][0]                       \n",
            "__________________________________________________________________________________________________\n",
            "User-Embedding (Embedding)      (None, 1, 20)        18880       User[0][0]                       \n",
            "__________________________________________________________________________________________________\n",
            "Flattenproject (Flatten)        (None, 20)           0           Project-Embedding[0][0]          \n",
            "__________________________________________________________________________________________________\n",
            "FlattenUsers (Flatten)          (None, 20)           0           User-Embedding[0][0]             \n",
            "__________________________________________________________________________________________________\n",
            "DotProduct (Dot)                (None, 1)            0           Flattenproject[0][0]             \n",
            "                                                                 FlattenUsers[0][0]               \n",
            "==================================================================================================\n",
            "Total params: 52,540\n",
            "Trainable params: 52,540\n",
            "Non-trainable params: 0\n",
            "__________________________________________________________________________________________________\n"
          ]
        }
      ]
    },
    {
      "cell_type": "code",
      "metadata": {
        "id": "XE09p-L5cp4M"
      },
      "source": [
        "history = model.fit([train.user_id, train.proj_id], train.rating, epochs=100, verbose=0)"
      ],
      "execution_count": 54,
      "outputs": []
    },
    {
      "cell_type": "code",
      "metadata": {
        "colab": {
          "base_uri": "https://localhost:8080/",
          "height": 295
        },
        "id": "wHoJkE4HeLWk",
        "outputId": "fdd37020-b1ca-4d64-9f26-38b85374cd4c"
      },
      "source": [
        "import matplotlib.pyplot as plt\n",
        "pd.Series(history.history['loss']).plot(logy=True)\n",
        "plt.xlabel(\"Epoch\")\n",
        "plt.ylabel(\"Training Error\")\n",
        "plt.title('Loss Graph')\n",
        "plt.show()"
      ],
      "execution_count": 55,
      "outputs": [
        {
          "output_type": "display_data",
          "data": {
            "image/png": "[encoded data removed]",
            "text/plain": [
              "<Figure size 432x288 with 1 Axes>"
            ]
          },
          "metadata": {
            "needs_background": "light"
          }
        }
      ]
    },
    {
      "cell_type": "code",
      "metadata": {
        "colab": {
          "base_uri": "https://localhost:8080/"
        },
        "id": "FCmyJk1KeVsd",
        "outputId": "66e67eee-60a8-451d-b5d9-87bb7a77be56"
      },
      "source": [
        "results = model.evaluate((test.user_id, test.proj_id), test.rating, batch_size=1)"
      ],
      "execution_count": 56,
      "outputs": [
        {
          "output_type": "stream",
          "name": "stdout",
          "text": [
            "20000/20000 [==============================] - 22s 1ms/step - loss: 1.6191 - mae: 0.9578 - mse: 1.6191\n"
          ]
        }
      ]
    },
    {
      "cell_type": "code",
      "metadata": {
        "id": "Zq0lfsvTfIfP",
        "colab": {
          "base_uri": "https://localhost:8080/",
          "height": 204
        },
        "outputId": "8a65ca51-e090-48f4-8077-657d4c61a7ec"
      },
      "source": [
        "proj_embedding_learnt = model.get_layer(name='Project-Embedding').get_weights()[0] #weights are requested from the layer to sort the projects priority wise \n",
        "a = pd.DataFrame(proj_embedding_learnt)\n",
        "a.head()"
      ],
      "execution_count": 64,
      "outputs": [
        {
          "output_type": "execute_result",
          "data": {
            "text/html": [
              "<div>\n",
              "<style scoped>\n",
              "    .dataframe tbody tr th:only-of-type {\n",
              "        vertical-align: middle;\n",
              "    }\n",
              "\n",
              "    .dataframe tbody tr th {\n",
              "        vertical-align: top;\n",
              "    }\n",
              "\n",
              "    .dataframe thead th {\n",
              "        text-align: right;\n",
              "    }\n",
              "</style>\n",
              "<table border=\"1\" class=\"dataframe\">\n",
              "  <thead>\n",
              "    <tr style=\"text-align: right;\">\n",
              "      <th></th>\n",
              "      <th>0</th>\n",
              "      <th>1</th>\n",
              "      <th>2</th>\n",
              "      <th>3</th>\n",
              "      <th>4</th>\n",
              "      <th>5</th>\n",
              "      <th>6</th>\n",
              "      <th>7</th>\n",
              "      <th>8</th>\n",
              "      <th>9</th>\n",
              "      <th>10</th>\n",
              "      <th>11</th>\n",
              "      <th>12</th>\n",
              "      <th>13</th>\n",
              "      <th>14</th>\n",
              "      <th>15</th>\n",
              "      <th>16</th>\n",
              "      <th>17</th>\n",
              "      <th>18</th>\n",
              "      <th>19</th>\n",
              "    </tr>\n",
              "  </thead>\n",
              "  <tbody>\n",
              "    <tr>\n",
              "      <th>0</th>\n",
              "      <td>0.547174</td>\n",
              "      <td>0.509055</td>\n",
              "      <td>0.648635</td>\n",
              "      <td>-0.418492</td>\n",
              "      <td>0.895591</td>\n",
              "      <td>-0.308743</td>\n",
              "      <td>-0.672795</td>\n",
              "      <td>0.075166</td>\n",
              "      <td>0.893911</td>\n",
              "      <td>-0.558261</td>\n",
              "      <td>-0.586524</td>\n",
              "      <td>-0.002567</td>\n",
              "      <td>0.195712</td>\n",
              "      <td>0.635819</td>\n",
              "      <td>0.389228</td>\n",
              "      <td>0.121805</td>\n",
              "      <td>-0.314645</td>\n",
              "      <td>0.458542</td>\n",
              "      <td>-0.297101</td>\n",
              "      <td>-0.412626</td>\n",
              "    </tr>\n",
              "    <tr>\n",
              "      <th>1</th>\n",
              "      <td>-0.125139</td>\n",
              "      <td>0.221336</td>\n",
              "      <td>0.288484</td>\n",
              "      <td>-0.047124</td>\n",
              "      <td>0.837882</td>\n",
              "      <td>0.312225</td>\n",
              "      <td>-0.635870</td>\n",
              "      <td>0.519100</td>\n",
              "      <td>0.577786</td>\n",
              "      <td>-0.290671</td>\n",
              "      <td>-0.323865</td>\n",
              "      <td>-0.619502</td>\n",
              "      <td>0.800625</td>\n",
              "      <td>-0.069065</td>\n",
              "      <td>0.251750</td>\n",
              "      <td>0.753345</td>\n",
              "      <td>-0.462276</td>\n",
              "      <td>0.405432</td>\n",
              "      <td>-0.356053</td>\n",
              "      <td>-0.493657</td>\n",
              "    </tr>\n",
              "    <tr>\n",
              "      <th>2</th>\n",
              "      <td>0.628706</td>\n",
              "      <td>0.281775</td>\n",
              "      <td>0.880364</td>\n",
              "      <td>-0.539777</td>\n",
              "      <td>-0.495326</td>\n",
              "      <td>-0.521591</td>\n",
              "      <td>-1.021580</td>\n",
              "      <td>1.854807</td>\n",
              "      <td>-0.273267</td>\n",
              "      <td>-0.161818</td>\n",
              "      <td>-0.404437</td>\n",
              "      <td>0.352308</td>\n",
              "      <td>-1.034721</td>\n",
              "      <td>0.144102</td>\n",
              "      <td>0.271016</td>\n",
              "      <td>0.480394</td>\n",
              "      <td>-0.381646</td>\n",
              "      <td>1.168822</td>\n",
              "      <td>-0.285324</td>\n",
              "      <td>0.049080</td>\n",
              "    </tr>\n",
              "    <tr>\n",
              "      <th>3</th>\n",
              "      <td>0.262080</td>\n",
              "      <td>0.702853</td>\n",
              "      <td>0.703895</td>\n",
              "      <td>-0.399099</td>\n",
              "      <td>0.763560</td>\n",
              "      <td>-0.447217</td>\n",
              "      <td>-0.664026</td>\n",
              "      <td>0.457554</td>\n",
              "      <td>-0.515202</td>\n",
              "      <td>-0.466916</td>\n",
              "      <td>-0.262809</td>\n",
              "      <td>-0.044884</td>\n",
              "      <td>0.669100</td>\n",
              "      <td>0.669401</td>\n",
              "      <td>0.323919</td>\n",
              "      <td>1.400005</td>\n",
              "      <td>-0.152285</td>\n",
              "      <td>0.221528</td>\n",
              "      <td>-0.014127</td>\n",
              "      <td>-0.268817</td>\n",
              "    </tr>\n",
              "    <tr>\n",
              "      <th>4</th>\n",
              "      <td>0.296562</td>\n",
              "      <td>0.108524</td>\n",
              "      <td>0.588010</td>\n",
              "      <td>-0.116044</td>\n",
              "      <td>-0.132763</td>\n",
              "      <td>0.402561</td>\n",
              "      <td>-0.090261</td>\n",
              "      <td>-0.159824</td>\n",
              "      <td>0.332803</td>\n",
              "      <td>-0.547188</td>\n",
              "      <td>-0.546061</td>\n",
              "      <td>-0.648994</td>\n",
              "      <td>0.679717</td>\n",
              "      <td>0.984817</td>\n",
              "      <td>0.418738</td>\n",
              "      <td>0.185552</td>\n",
              "      <td>-0.456459</td>\n",
              "      <td>1.656982</td>\n",
              "      <td>-0.766295</td>\n",
              "      <td>-0.791347</td>\n",
              "    </tr>\n",
              "  </tbody>\n",
              "</table>\n",
              "</div>"
            ],
            "text/plain": [
              "         0         1         2   ...        17        18        19\n",
              "0  0.547174  0.509055  0.648635  ...  0.458542 -0.297101 -0.412626\n",
              "1 -0.125139  0.221336  0.288484  ...  0.405432 -0.356053 -0.493657\n",
              "2  0.628706  0.281775  0.880364  ...  1.168822 -0.285324  0.049080\n",
              "3  0.262080  0.702853  0.703895  ...  0.221528 -0.014127 -0.268817\n",
              "4  0.296562  0.108524  0.588010  ...  1.656982 -0.766295 -0.791347\n",
              "\n",
              "[5 rows x 20 columns]"
            ]
          },
          "metadata": {},
          "execution_count": 64
        }
      ]
    },
    {
      "cell_type": "code",
      "metadata": {
        "colab": {
          "base_uri": "https://localhost:8080/"
        },
        "id": "Sn4173j0CR6H",
        "outputId": "092621dd-628e-4265-8b57-4d05a640197e"
      },
      "source": [
        "a.shape"
      ],
      "execution_count": 58,
      "outputs": [
        {
          "output_type": "execute_result",
          "data": {
            "text/plain": [
              "(1683, 20)"
            ]
          },
          "metadata": {},
          "execution_count": 58
        }
      ]
    },
    {
      "cell_type": "code",
      "metadata": {
        "id": "pjUq75cSehvB",
        "colab": {
          "base_uri": "https://localhost:8080/",
          "height": 204
        },
        "outputId": "1aca039e-480f-46dc-88c4-60db007ffe4f"
      },
      "source": [
        "user_embedding_learnt = model.get_layer(name='User-Embedding').get_weights()[0] #weights are requested from the layer to sort the projects priority wise \n",
        "b = pd.DataFrame(user_embedding_learnt)\n",
        "b.head()"
      ],
      "execution_count": 63,
      "outputs": [
        {
          "output_type": "execute_result",
          "data": {
            "text/html": [
              "<div>\n",
              "<style scoped>\n",
              "    .dataframe tbody tr th:only-of-type {\n",
              "        vertical-align: middle;\n",
              "    }\n",
              "\n",
              "    .dataframe tbody tr th {\n",
              "        vertical-align: top;\n",
              "    }\n",
              "\n",
              "    .dataframe thead th {\n",
              "        text-align: right;\n",
              "    }\n",
              "</style>\n",
              "<table border=\"1\" class=\"dataframe\">\n",
              "  <thead>\n",
              "    <tr style=\"text-align: right;\">\n",
              "      <th></th>\n",
              "      <th>0</th>\n",
              "      <th>1</th>\n",
              "      <th>2</th>\n",
              "      <th>3</th>\n",
              "      <th>4</th>\n",
              "      <th>5</th>\n",
              "      <th>6</th>\n",
              "      <th>7</th>\n",
              "      <th>8</th>\n",
              "      <th>9</th>\n",
              "      <th>10</th>\n",
              "      <th>11</th>\n",
              "      <th>12</th>\n",
              "      <th>13</th>\n",
              "      <th>14</th>\n",
              "      <th>15</th>\n",
              "      <th>16</th>\n",
              "      <th>17</th>\n",
              "      <th>18</th>\n",
              "      <th>19</th>\n",
              "    </tr>\n",
              "  </thead>\n",
              "  <tbody>\n",
              "    <tr>\n",
              "      <th>0</th>\n",
              "      <td>0.473077</td>\n",
              "      <td>0.388023</td>\n",
              "      <td>0.045932</td>\n",
              "      <td>-0.904564</td>\n",
              "      <td>0.828103</td>\n",
              "      <td>-0.262708</td>\n",
              "      <td>-1.041786</td>\n",
              "      <td>0.810119</td>\n",
              "      <td>0.349255</td>\n",
              "      <td>-0.308737</td>\n",
              "      <td>-0.204084</td>\n",
              "      <td>-0.574841</td>\n",
              "      <td>0.178412</td>\n",
              "      <td>-0.318575</td>\n",
              "      <td>0.776274</td>\n",
              "      <td>0.163858</td>\n",
              "      <td>-0.123873</td>\n",
              "      <td>0.804762</td>\n",
              "      <td>0.629090</td>\n",
              "      <td>-0.417708</td>\n",
              "    </tr>\n",
              "    <tr>\n",
              "      <th>1</th>\n",
              "      <td>0.779446</td>\n",
              "      <td>0.271635</td>\n",
              "      <td>-0.252435</td>\n",
              "      <td>-0.679420</td>\n",
              "      <td>0.444689</td>\n",
              "      <td>-0.482381</td>\n",
              "      <td>-0.292258</td>\n",
              "      <td>-0.014695</td>\n",
              "      <td>1.253357</td>\n",
              "      <td>0.006927</td>\n",
              "      <td>-1.721620</td>\n",
              "      <td>-0.143833</td>\n",
              "      <td>1.045808</td>\n",
              "      <td>0.563418</td>\n",
              "      <td>0.780417</td>\n",
              "      <td>-0.280913</td>\n",
              "      <td>-0.166479</td>\n",
              "      <td>0.774376</td>\n",
              "      <td>0.415225</td>\n",
              "      <td>-0.135111</td>\n",
              "    </tr>\n",
              "    <tr>\n",
              "      <th>2</th>\n",
              "      <td>0.422434</td>\n",
              "      <td>0.922233</td>\n",
              "      <td>-1.190999</td>\n",
              "      <td>-0.668052</td>\n",
              "      <td>0.155969</td>\n",
              "      <td>-0.378354</td>\n",
              "      <td>-0.092287</td>\n",
              "      <td>-0.350082</td>\n",
              "      <td>-0.090835</td>\n",
              "      <td>-0.509305</td>\n",
              "      <td>0.049393</td>\n",
              "      <td>-1.745769</td>\n",
              "      <td>0.448625</td>\n",
              "      <td>0.578177</td>\n",
              "      <td>1.123604</td>\n",
              "      <td>-0.677254</td>\n",
              "      <td>-0.575619</td>\n",
              "      <td>0.549785</td>\n",
              "      <td>0.292683</td>\n",
              "      <td>-1.257865</td>\n",
              "    </tr>\n",
              "    <tr>\n",
              "      <th>3</th>\n",
              "      <td>-0.536091</td>\n",
              "      <td>1.759932</td>\n",
              "      <td>0.012384</td>\n",
              "      <td>0.683764</td>\n",
              "      <td>1.188860</td>\n",
              "      <td>-1.599597</td>\n",
              "      <td>-0.020172</td>\n",
              "      <td>0.119257</td>\n",
              "      <td>1.667030</td>\n",
              "      <td>-0.873227</td>\n",
              "      <td>-0.628197</td>\n",
              "      <td>-0.176716</td>\n",
              "      <td>-0.670547</td>\n",
              "      <td>0.207622</td>\n",
              "      <td>0.321281</td>\n",
              "      <td>-0.197661</td>\n",
              "      <td>-1.900351</td>\n",
              "      <td>0.687470</td>\n",
              "      <td>-0.769733</td>\n",
              "      <td>-0.479670</td>\n",
              "    </tr>\n",
              "    <tr>\n",
              "      <th>4</th>\n",
              "      <td>0.612028</td>\n",
              "      <td>1.329091</td>\n",
              "      <td>0.744430</td>\n",
              "      <td>-0.151655</td>\n",
              "      <td>0.005926</td>\n",
              "      <td>-0.345013</td>\n",
              "      <td>-1.431413</td>\n",
              "      <td>0.390897</td>\n",
              "      <td>0.208481</td>\n",
              "      <td>0.096059</td>\n",
              "      <td>1.139837</td>\n",
              "      <td>-0.868713</td>\n",
              "      <td>0.302651</td>\n",
              "      <td>0.162721</td>\n",
              "      <td>1.514264</td>\n",
              "      <td>0.329560</td>\n",
              "      <td>-1.100013</td>\n",
              "      <td>-0.652620</td>\n",
              "      <td>0.262338</td>\n",
              "      <td>-0.739228</td>\n",
              "    </tr>\n",
              "  </tbody>\n",
              "</table>\n",
              "</div>"
            ],
            "text/plain": [
              "         0         1         2   ...        17        18        19\n",
              "0  0.473077  0.388023  0.045932  ...  0.804762  0.629090 -0.417708\n",
              "1  0.779446  0.271635 -0.252435  ...  0.774376  0.415225 -0.135111\n",
              "2  0.422434  0.922233 -1.190999  ...  0.549785  0.292683 -1.257865\n",
              "3 -0.536091  1.759932  0.012384  ...  0.687470 -0.769733 -0.479670\n",
              "4  0.612028  1.329091  0.744430  ... -0.652620  0.262338 -0.739228\n",
              "\n",
              "[5 rows x 20 columns]"
            ]
          },
          "metadata": {},
          "execution_count": 63
        }
      ]
    },
    {
      "cell_type": "code",
      "metadata": {
        "colab": {
          "base_uri": "https://localhost:8080/"
        },
        "id": "mlwXUKIkCZs_",
        "outputId": "84878629-1c92-46ea-d1ba-501c29a6366d"
      },
      "source": [
        "b.shape"
      ],
      "execution_count": 60,
      "outputs": [
        {
          "output_type": "execute_result",
          "data": {
            "text/plain": [
              "(944, 20)"
            ]
          },
          "metadata": {},
          "execution_count": 60
        }
      ]
    },
    {
      "cell_type": "markdown",
      "metadata": {
        "id": "IFh4PNfDdR2r"
      },
      "source": [
        "Recommending the project ID number to the specific user (upto top 5 recommendations)"
      ]
    },
    {
      "cell_type": "code",
      "metadata": {
        "id": "dCGJ4GsrfSK1"
      },
      "source": [
        "def recommend(user_id, number_of_proj=5):\n",
        "  projects = user_embedding_learnt[user_id]@proj_embedding_learnt.T #\"@\" means matrix multiplication, T is transpose\n",
        "  mids = np.argpartition(projects, -number_of_proj)[-number_of_proj:] #only showing 5 recommendation and not repeating that\n",
        "  return mids"
      ],
      "execution_count": 61,
      "outputs": []
    },
    {
      "cell_type": "code",
      "metadata": {
        "colab": {
          "base_uri": "https://localhost:8080/"
        },
        "id": "oxBFiu3afzfs",
        "outputId": "314a49d3-17e6-47f2-a1d9-ac6aba13ee33"
      },
      "source": [
        "recommend(user_id=2) #the user id can be changed"
      ],
      "execution_count": 62,
      "outputs": [
        {
          "output_type": "execute_result",
          "data": {
            "text/plain": [
              "array([ 136, 1072,  936,  615,  371])"
            ]
          },
          "metadata": {},
          "execution_count": 62
        }
      ]
    }
  ]
}