{
  "nbformat": 4,
  "nbformat_minor": 0,
  "metadata": {
    "colab": {
      "name": "Collaborative filtering with TensorFlow RS.ipynb",
      "provenance": [],
      "authorship_tag": "ABX9TyPTJ+kROq7T4HaNS8uvOlXc"
    },
    "kernelspec": {
      "name": "python3",
      "display_name": "Python 3"
    },
    "language_info": {
      "name": "python"
    }
  },
  "cells": [
    {
      "cell_type": "markdown",
      "metadata": {
        "id": "XczaKWJ3FmLh"
      },
      "source": [
        "# GDSC Volunteer Program \n",
        "## TensorFlow Task\n",
        "\n",
        "## Author: Anirudh Roy"
      ]
    },
    {
      "cell_type": "code",
      "metadata": {
        "id": "GO6jRBqO1BPX"
      },
      "source": [
        "import warnings\n",
        "warnings.filterwarnings('ignore')"
      ],
      "execution_count": 1,
      "outputs": []
    },
    {
      "cell_type": "code",
      "metadata": {
        "id": "GP1Xu_Mp1PrO"
      },
      "source": [
        "import pandas as pd\n",
        "import numpy as np\n",
        "import tensorflow as tf\n",
        "from scipy.sparse import csr_matrix"
      ],
      "execution_count": 33,
      "outputs": []
    },
    {
      "cell_type": "markdown",
      "metadata": {
        "id": "Eo4n9G3KHnDD"
      },
      "source": [
        "### Loading the dataset"
      ]
    },
    {
      "cell_type": "code",
      "metadata": {
        "colab": {
          "base_uri": "https://localhost:8080/",
          "height": 205
        },
        "id": "U88KGUFY1bXC",
        "outputId": "dd7f8b68-21a6-48cc-d924-371e2b757c36"
      },
      "source": [
        "header = ['user_id','proj_id','rating','timestamp']\n",
        "url = \"https://files.grouplens.org/datasets/movielens/ml-100k/u.data\"\n",
        "dataset = pd.read_csv(url , sep = '\\t', names = header)\n",
        "dataset.head()"
      ],
      "execution_count": 3,
      "outputs": [
        {
          "output_type": "execute_result",
          "data": {
            "text/html": [
              "<div>\n",
              "<style scoped>\n",
              "    .dataframe tbody tr th:only-of-type {\n",
              "        vertical-align: middle;\n",
              "    }\n",
              "\n",
              "    .dataframe tbody tr th {\n",
              "        vertical-align: top;\n",
              "    }\n",
              "\n",
              "    .dataframe thead th {\n",
              "        text-align: right;\n",
              "    }\n",
              "</style>\n",
              "<table border=\"1\" class=\"dataframe\">\n",
              "  <thead>\n",
              "    <tr style=\"text-align: right;\">\n",
              "      <th></th>\n",
              "      <th>user_id</th>\n",
              "      <th>proj_id</th>\n",
              "      <th>rating</th>\n",
              "      <th>timestamp</th>\n",
              "    </tr>\n",
              "  </thead>\n",
              "  <tbody>\n",
              "    <tr>\n",
              "      <th>0</th>\n",
              "      <td>196</td>\n",
              "      <td>242</td>\n",
              "      <td>3</td>\n",
              "      <td>881250949</td>\n",
              "    </tr>\n",
              "    <tr>\n",
              "      <th>1</th>\n",
              "      <td>186</td>\n",
              "      <td>302</td>\n",
              "      <td>3</td>\n",
              "      <td>891717742</td>\n",
              "    </tr>\n",
              "    <tr>\n",
              "      <th>2</th>\n",
              "      <td>22</td>\n",
              "      <td>377</td>\n",
              "      <td>1</td>\n",
              "      <td>878887116</td>\n",
              "    </tr>\n",
              "    <tr>\n",
              "      <th>3</th>\n",
              "      <td>244</td>\n",
              "      <td>51</td>\n",
              "      <td>2</td>\n",
              "      <td>880606923</td>\n",
              "    </tr>\n",
              "    <tr>\n",
              "      <th>4</th>\n",
              "      <td>166</td>\n",
              "      <td>346</td>\n",
              "      <td>1</td>\n",
              "      <td>886397596</td>\n",
              "    </tr>\n",
              "  </tbody>\n",
              "</table>\n",
              "</div>"
            ],
            "text/plain": [
              "   user_id  proj_id  rating  timestamp\n",
              "0      196      242       3  881250949\n",
              "1      186      302       3  891717742\n",
              "2       22      377       1  878887116\n",
              "3      244       51       2  880606923\n",
              "4      166      346       1  886397596"
            ]
          },
          "metadata": {},
          "execution_count": 3
        }
      ]
    },
    {
      "cell_type": "code",
      "metadata": {
        "id": "hdyluKjsbhm2"
      },
      "source": [
        "dataset.user_id = dataset.user_id.astype('category').cat.codes.values\n",
        "dataset.proj_id = dataset.proj_id.astype('category').cat.codes.values"
      ],
      "execution_count": 80,
      "outputs": []
    },
    {
      "cell_type": "code",
      "metadata": {
        "id": "cjIV28YebybI"
      },
      "source": [
        "from sklearn.model_selection import train_test_split\n",
        "train, test = train_test_split(dataset, test_size=0.2)"
      ],
      "execution_count": 81,
      "outputs": []
    },
    {
      "cell_type": "code",
      "metadata": {
        "id": "3etwLraJb7Fm"
      },
      "source": [
        "from tensorflow import keras\n",
        "from tensorflow.keras.optimizers import Adam"
      ],
      "execution_count": 83,
      "outputs": []
    },
    {
      "cell_type": "code",
      "metadata": {
        "id": "GgwaivY9cCuk"
      },
      "source": [
        "n_users, n_project = len(dataset.user_id.unique()), len(dataset.proj_id.unique())\n",
        "n_latent_factors = 20"
      ],
      "execution_count": 84,
      "outputs": []
    },
    {
      "cell_type": "markdown",
      "metadata": {
        "id": "wGtI-3QAH7k3"
      },
      "source": [
        "### Defining Layers"
      ]
    },
    {
      "cell_type": "code",
      "metadata": {
        "id": "faqRt_4KcOU0"
      },
      "source": [
        "proj_input = keras.layers.Input(shape=[1],name='Item')\n",
        "proj_embedding = keras.layers.Embedding(n_project + 1, n_latent_factors, name='Project-Embedding')(proj_input)\n",
        "proj_vec = keras.layers.Flatten(name='Flattenproject')(proj_embedding)\n",
        "user_input = keras.layers.Input(shape=[1],name='User')\n",
        "user_vec = keras.layers.Flatten(name='FlattenUsers')(keras.layers.Embedding(n_users + 1, n_latent_factors,name='User-Embedding')(user_input))\n",
        "prod = keras.layers.dot([proj_vec, user_vec], axes=1,name='DotProduct')\n",
        "model = keras.Model([user_input, proj_input], prod)"
      ],
      "execution_count": 102,
      "outputs": []
    },
    {
      "cell_type": "code",
      "metadata": {
        "id": "L6LrsrFUcbFW"
      },
      "source": [
        "model.compile(optimizer='adam', loss='mean_squared_error', metrics=['mae', 'mse'])"
      ],
      "execution_count": 103,
      "outputs": []
    },
    {
      "cell_type": "code",
      "metadata": {
        "colab": {
          "base_uri": "https://localhost:8080/"
        },
        "id": "GuBNYYgIcfXk",
        "outputId": "450b9768-f134-4edb-c1fd-7bfdf0af64fc"
      },
      "source": [
        "model.summary()"
      ],
      "execution_count": 104,
      "outputs": [
        {
          "output_type": "stream",
          "name": "stdout",
          "text": [
            "Model: \"model_1\"\n",
            "__________________________________________________________________________________________________\n",
            "Layer (type)                    Output Shape         Param #     Connected to                     \n",
            "==================================================================================================\n",
            "Item (InputLayer)               [(None, 1)]          0                                            \n",
            "__________________________________________________________________________________________________\n",
            "User (InputLayer)               [(None, 1)]          0                                            \n",
            "__________________________________________________________________________________________________\n",
            "Project-Embedding (Embedding)   (None, 1, 20)        33660       Item[0][0]                       \n",
            "__________________________________________________________________________________________________\n",
            "User-Embedding (Embedding)      (None, 1, 20)        18880       User[0][0]                       \n",
            "__________________________________________________________________________________________________\n",
            "Flattenproject (Flatten)        (None, 20)           0           Project-Embedding[0][0]          \n",
            "__________________________________________________________________________________________________\n",
            "FlattenUsers (Flatten)          (None, 20)           0           User-Embedding[0][0]             \n",
            "__________________________________________________________________________________________________\n",
            "DotProduct (Dot)                (None, 1)            0           Flattenproject[0][0]             \n",
            "                                                                 FlattenUsers[0][0]               \n",
            "==================================================================================================\n",
            "Total params: 52,540\n",
            "Trainable params: 52,540\n",
            "Non-trainable params: 0\n",
            "__________________________________________________________________________________________________\n"
          ]
        }
      ]
    },
    {
      "cell_type": "code",
      "metadata": {
        "id": "XE09p-L5cp4M"
      },
      "source": [
        "history = model.fit([train.user_id, train.proj_id], train.rating, epochs=100, verbose=0)"
      ],
      "execution_count": 106,
      "outputs": []
    },
    {
      "cell_type": "code",
      "metadata": {
        "colab": {
          "base_uri": "https://localhost:8080/",
          "height": 300
        },
        "id": "wHoJkE4HeLWk",
        "outputId": "073bfc21-7737-4995-f231-7195c877241f"
      },
      "source": [
        "import matplotlib.pyplot as plt\n",
        "pd.Series(history.history['loss']).plot(logy=True)\n",
        "plt.xlabel(\"Epoch\")\n",
        "plt.ylabel(\"Training Error\")"
      ],
      "execution_count": 93,
      "outputs": [
        {
          "output_type": "execute_result",
          "data": {
            "text/plain": [
              "Text(0, 0.5, 'Training Error')"
            ]
          },
          "metadata": {},
          "execution_count": 93
        },
        {
          "output_type": "display_data",
          "data": {
            "image/png": "[encoded data removed]",
            "text/plain": [
              "<Figure size 432x288 with 1 Axes>"
            ]
          },
          "metadata": {
            "needs_background": "light"
          }
        }
      ]
    },
    {
      "cell_type": "code",
      "metadata": {
        "colab": {
          "base_uri": "https://localhost:8080/"
        },
        "id": "FCmyJk1KeVsd",
        "outputId": "b2a80f22-2347-4fa3-b841-a3efc552cf48"
      },
      "source": [
        "results = model.evaluate((test.user_id, test.proj_id), test.rating, batch_size=1)"
      ],
      "execution_count": 94,
      "outputs": [
        {
          "output_type": "stream",
          "name": "stdout",
          "text": [
            "20000/20000 [==============================] - 20s 979us/step - loss: 1.7077 - mae: 0.9798 - mse: 1.7077\n"
          ]
        }
      ]
    },
    {
      "cell_type": "code",
      "metadata": {
        "id": "Zq0lfsvTfIfP"
      },
      "source": [
        "proj_embedding_learnt = model.get_layer(name='Project-Embedding').get_weights()[0]"
      ],
      "execution_count": 97,
      "outputs": []
    },
    {
      "cell_type": "code",
      "metadata": {
        "id": "pjUq75cSehvB"
      },
      "source": [
        "user_embedding_learnt = model.get_layer(name='User-Embedding').get_weights()[0]"
      ],
      "execution_count": 98,
      "outputs": []
    },
    {
      "cell_type": "code",
      "metadata": {
        "id": "dCGJ4GsrfSK1"
      },
      "source": [
        "def recommend(user_id, number_of_proj=5):\n",
        "  projects = user_embedding_learnt[user_id]@proj_embedding_learnt.T\n",
        "  mids = np.argpartition(projects, -number_of_proj)[-number_of_proj:]\n",
        "  return mids"
      ],
      "execution_count": 99,
      "outputs": []
    },
    {
      "cell_type": "code",
      "metadata": {
        "colab": {
          "base_uri": "https://localhost:8080/"
        },
        "id": "oxBFiu3afzfs",
        "outputId": "df0203cc-0ac1-4047-ca57-bf00403b0667"
      },
      "source": [
        "recommend(user_id=2) #the user id can be changed"
      ],
      "execution_count": 107,
      "outputs": [
        {
          "output_type": "execute_result",
          "data": {
            "text/plain": [
              "array([ 984,  766,  159, 1204,  843])"
            ]
          },
          "metadata": {},
          "execution_count": 107
        }
      ]
    }
  ]
}