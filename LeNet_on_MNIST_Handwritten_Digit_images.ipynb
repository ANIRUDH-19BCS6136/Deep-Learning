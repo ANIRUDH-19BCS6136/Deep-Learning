{
  "nbformat": 4,
  "nbformat_minor": 0,
  "metadata": {
    "colab": {
      "name": "LeNet on MNIST Handwritten Digit images.ipynb",
      "provenance": [],
      "collapsed_sections": [],
      "authorship_tag": "ABX9TyNIn6VsJePuUlvmuCUdXBt3"
    },
    "kernelspec": {
      "name": "python3",
      "display_name": "Python 3"
    },
    "language_info": {
      "name": "python"
    }
  },
  "cells": [
    {
      "cell_type": "markdown",
      "metadata": {
        "id": "iFVtpFAjuuSW"
      },
      "source": [
        "# Experiment 7-8\n",
        "\n",
        "## Anirudh Roy\n",
        "## 19BCS6136\n",
        "\n",
        "Problem Statement:  Apply LeNet for recognizing MNIST handwritten digit images.\n",
        "\n",
        "\n",
        "\n"
      ]
    },
    {
      "cell_type": "markdown",
      "metadata": {
        "id": "oecQ9LURsW3_"
      },
      "source": [
        "### 1. Loading the MNIST dataset"
      ]
    },
    {
      "cell_type": "code",
      "metadata": {
        "colab": {
          "base_uri": "https://localhost:8080/"
        },
        "id": "x_6bXnB0p1hr",
        "outputId": "b4955874-1de3-4f1f-b970-4987ec9ba001"
      },
      "source": [
        "from keras.datasets import mnist\n",
        "(X_train, y_train), (X_test, y_test) = mnist.load_data()\n",
        "print('X_train shape', X_train.shape, 'X_test shape', X_test.shape)"
      ],
      "execution_count": 1,
      "outputs": [
        {
          "output_type": "stream",
          "name": "stdout",
          "text": [
            "Downloading data from https://storage.googleapis.com/tensorflow/tf-keras-datasets/mnist.npz\n",
            "11493376/11490434 [==============================] - 0s 0us/step\n",
            "11501568/11490434 [==============================] - 0s 0us/step\n",
            "X_train shape (60000, 28, 28) X_test shape (10000, 28, 28)\n"
          ]
        }
      ]
    },
    {
      "cell_type": "code",
      "metadata": {
        "colab": {
          "base_uri": "https://localhost:8080/"
        },
        "id": "Eqf6szqwrqRF",
        "outputId": "3b48144d-c59b-4dc0-94ef-53ac55a07322"
      },
      "source": [
        "print('X_train shape', X_train.shape, 'X_test shape', X_test.shape)"
      ],
      "execution_count": 2,
      "outputs": [
        {
          "output_type": "stream",
          "name": "stdout",
          "text": [
            "X_train shape (60000, 28, 28) X_test shape (10000, 28, 28)\n"
          ]
        }
      ]
    },
    {
      "cell_type": "code",
      "metadata": {
        "colab": {
          "base_uri": "https://localhost:8080/"
        },
        "id": "s9nAsLfbsjgC",
        "outputId": "078b0073-43a0-466c-99cd-07bea1d4dafc"
      },
      "source": [
        "type(X_train)"
      ],
      "execution_count": 3,
      "outputs": [
        {
          "output_type": "execute_result",
          "data": {
            "text/plain": [
              "numpy.ndarray"
            ]
          },
          "metadata": {},
          "execution_count": 3
        }
      ]
    },
    {
      "cell_type": "markdown",
      "metadata": {
        "id": "kypdf224snuf"
      },
      "source": [
        "Visualizing randomly some images in the training set:\n",
        "\n"
      ]
    },
    {
      "cell_type": "code",
      "metadata": {
        "id": "F-EDjJjbslm-"
      },
      "source": [
        "import matplotlib.pyplot as plt \n",
        "import random "
      ],
      "execution_count": 4,
      "outputs": []
    },
    {
      "cell_type": "code",
      "metadata": {
        "colab": {
          "base_uri": "https://localhost:8080/",
          "height": 321
        },
        "id": "Rkhq1VGJsqz2",
        "outputId": "6961e2ad-f781-494c-ea34-f7a023126d46"
      },
      "source": [
        "plt.figure(figsize = (12,5))\n",
        "for i in range(8):\n",
        "  ind = random.randint(0, len(X_train))\n",
        "  plt.subplot(240+1+i)\n",
        "  plt.imshow(X_train[ind])"
      ],
      "execution_count": 5,
      "outputs": [
        {
          "output_type": "display_data",
          "data": {
            "image/png": "[encoded data removed]",
            "text/plain": [
              "<Figure size 864x360 with 8 Axes>"
            ]
          },
          "metadata": {
            "needs_background": "light"
          }
        }
      ]
    },
    {
      "cell_type": "markdown",
      "metadata": {
        "id": "8B4OQqrFswKf"
      },
      "source": [
        "### 2. Preprocessing data\n",
        "This task includes the following steps:\n",
        "\n",
        "*   Reshape images into required size of Keras\n",
        "*   Convert integer values into float values\n",
        "*   Normalize data\n",
        "*   One-hot encodeing labels"
      ]
    },
    {
      "cell_type": "code",
      "metadata": {
        "id": "vyDKGJDwss99"
      },
      "source": [
        "import tensorflow\n",
        "from tensorflow.keras.utils import to_categorical"
      ],
      "execution_count": 6,
      "outputs": []
    },
    {
      "cell_type": "code",
      "metadata": {
        "id": "9xUc3G2HtA9f"
      },
      "source": [
        "def preprocess_data(X_train, y_train, X_test, y_test):\n",
        "  # reshape images to the the required size by Keras\n",
        "  X_train = X_train.reshape(X_train.shape[0], X_train.shape[1], X_train.shape[2], 1)\n",
        "  X_test = X_test.reshape(X_test.shape[0], X_test.shape[1], X_test.shape[2], 1)\n",
        "  # convert from integers to floats\n",
        "  X_train = X_train.astype('float32')\n",
        "  X_test = X_test.astype('float32')\n",
        "  # normalize to range 0-1\n",
        "  X_train = X_train/255.0\n",
        "  X_test_norm = X_test/255.0\n",
        "  # One-hot encoding label \n",
        "  y_train = to_categorical(y_train)\n",
        "  y_test = to_categorical(y_test)\n",
        "  return X_train, y_train, X_test, y_test "
      ],
      "execution_count": 7,
      "outputs": []
    },
    {
      "cell_type": "markdown",
      "metadata": {
        "id": "5B3BjFL6wSTH"
      },
      "source": [
        "### 3. Buiding the LeNet model"
      ]
    },
    {
      "cell_type": "code",
      "metadata": {
        "id": "AEQ9_CXMwRPY"
      },
      "source": [
        "from tensorflow.keras.models import Sequential\n",
        "from tensorflow.keras.layers import Conv2D, MaxPooling2D, Dense, Flatten\n",
        "# metrics \n",
        "from tensorflow.keras.metrics import categorical_crossentropy\n",
        "# optimization method\n",
        "from tensorflow.keras.optimizers import SGD"
      ],
      "execution_count": 8,
      "outputs": []
    },
    {
      "cell_type": "code",
      "metadata": {
        "id": "kFNkbSqfwYKv"
      },
      "source": [
        "def LeNet():\n",
        "  model = Sequential()\n",
        "  model.add(Conv2D(filters = 6, kernel_size = (5,5), padding = 'same', activation = 'relu', input_shape = (28,28,1)))\n",
        "  model.add(MaxPooling2D(pool_size = (2,2)))\n",
        "  model.add(Conv2D(filters = 16, kernel_size = (5,5), activation = 'relu'))\n",
        "  model.add(MaxPooling2D(pool_size = (2,2)))\n",
        "  model.add(Flatten())\n",
        "  model.add(Dense(120, activation = 'relu'))\n",
        "  model.add(Dense(10, activation = 'softmax'))\n",
        "  # compile the model with a loss function, a metric and an optimizer function\n",
        "  opt = SGD(lr = 0.01)\n",
        "  model.compile(loss = categorical_crossentropy, \n",
        "                optimizer = opt, \n",
        "                metrics = ['accuracy']) \n",
        "  return model"
      ],
      "execution_count": 9,
      "outputs": []
    },
    {
      "cell_type": "code",
      "metadata": {
        "colab": {
          "base_uri": "https://localhost:8080/"
        },
        "id": "lPV36G5_wkuw",
        "outputId": "eadc087a-2c06-4c13-9637-5a4efa3f96d6"
      },
      "source": [
        "LeNet_model = LeNet()\n",
        "LeNet_model.summary()"
      ],
      "execution_count": 10,
      "outputs": [
        {
          "output_type": "stream",
          "name": "stdout",
          "text": [
            "Model: \"sequential\"\n",
            "_________________________________________________________________\n",
            " Layer (type)                Output Shape              Param #   \n",
            "=================================================================\n",
            " conv2d (Conv2D)             (None, 28, 28, 6)         156       \n",
            "                                                                 \n",
            " max_pooling2d (MaxPooling2D  (None, 14, 14, 6)        0         \n",
            " )                                                               \n",
            "                                                                 \n",
            " conv2d_1 (Conv2D)           (None, 10, 10, 16)        2416      \n",
            "                                                                 \n",
            " max_pooling2d_1 (MaxPooling  (None, 5, 5, 16)         0         \n",
            " 2D)                                                             \n",
            "                                                                 \n",
            " flatten (Flatten)           (None, 400)               0         \n",
            "                                                                 \n",
            " dense (Dense)               (None, 120)               48120     \n",
            "                                                                 \n",
            " dense_1 (Dense)             (None, 10)                1210      \n",
            "                                                                 \n",
            "=================================================================\n",
            "Total params: 51,902\n",
            "Trainable params: 51,902\n",
            "Non-trainable params: 0\n",
            "_________________________________________________________________\n"
          ]
        },
        {
          "output_type": "stream",
          "name": "stderr",
          "text": [
            "/usr/local/lib/python3.7/dist-packages/keras/optimizer_v2/gradient_descent.py:102: UserWarning: The `lr` argument is deprecated, use `learning_rate` instead.\n",
            "  super(SGD, self).__init__(name, **kwargs)\n"
          ]
        }
      ]
    },
    {
      "cell_type": "markdown",
      "metadata": {
        "id": "KTlGyN9dwpuI"
      },
      "source": [
        "### 4. Training the model\n",
        "Define the training function"
      ]
    },
    {
      "cell_type": "code",
      "metadata": {
        "id": "kY9I7k4Wwmse"
      },
      "source": [
        "def train_model(model, X_train, y_train, X_test, y_test, epochs = 50, batch_size = 128):\n",
        "  # Rescaling all training and testing data\n",
        "  X_train, y_train, X_test, y_test = preprocess_data(X_train, y_train, X_test, y_test)\n",
        "  # Fitting the model\n",
        "  history = model.fit(X_train, y_train, epochs = epochs, batch_size = batch_size, steps_per_epoch = X_train.shape[0]//batch_size, validation_data = (X_test, y_test), validation_steps = X_test.shape[0]//batch_size, verbose = 1)\n",
        "  # evaluate the model\n",
        "  _, acc = model.evaluate(X_test, y_test, verbose = 1)\n",
        "  print('%.3f' % (acc * 100.0))\n",
        "  summary_history(history)"
      ],
      "execution_count": 11,
      "outputs": []
    },
    {
      "cell_type": "code",
      "metadata": {
        "id": "tJo66uwCwuHO"
      },
      "source": [
        "def summary_history(history):\n",
        "  plt.figure(figsize = (10,6))\n",
        "  plt.plot(history.history['accuracy'], color = 'blue', label = 'train')\n",
        "  plt.plot(history.history['val_accuracy'], color = 'red', label = 'val')\n",
        "  plt.legend()\n",
        "  plt.title('Accuracy')\n",
        "  plt.show()"
      ],
      "execution_count": 12,
      "outputs": []
    },
    {
      "cell_type": "code",
      "metadata": {
        "colab": {
          "base_uri": "https://localhost:8080/",
          "height": 1000
        },
        "id": "Gah302EcwwMZ",
        "outputId": "7d265606-33a5-47ef-9d6f-cc9d7b4d626c"
      },
      "source": [
        "train_model(LeNet_model, X_train, y_train, X_test, y_test)"
      ],
      "execution_count": 13,
      "outputs": [
        {
          "output_type": "stream",
          "name": "stdout",
          "text": [
            "Epoch 1/50\n",
            "468/468 [==============================] - 33s 69ms/step - loss: 1.1227 - accuracy: 0.6872 - val_loss: 35.7792 - val_accuracy: 0.9097\n",
            "Epoch 2/50\n",
            "468/468 [==============================] - 32s 69ms/step - loss: 0.2907 - accuracy: 0.9140 - val_loss: 28.8609 - val_accuracy: 0.9355\n",
            "Epoch 3/50\n",
            "468/468 [==============================] - 32s 69ms/step - loss: 0.2201 - accuracy: 0.9345 - val_loss: 23.4855 - val_accuracy: 0.9464\n",
            "Epoch 4/50\n",
            "468/468 [==============================] - 32s 69ms/step - loss: 0.1799 - accuracy: 0.9459 - val_loss: 21.2490 - val_accuracy: 0.9549\n",
            "Epoch 5/50\n",
            "468/468 [==============================] - 32s 69ms/step - loss: 0.1522 - accuracy: 0.9547 - val_loss: 17.5459 - val_accuracy: 0.9611\n",
            "Epoch 6/50\n",
            "468/468 [==============================] - 32s 69ms/step - loss: 0.1322 - accuracy: 0.9612 - val_loss: 15.0528 - val_accuracy: 0.9655\n",
            "Epoch 7/50\n",
            "468/468 [==============================] - 32s 69ms/step - loss: 0.1180 - accuracy: 0.9649 - val_loss: 13.9233 - val_accuracy: 0.9703\n",
            "Epoch 8/50\n",
            "468/468 [==============================] - 32s 69ms/step - loss: 0.1061 - accuracy: 0.9687 - val_loss: 13.6237 - val_accuracy: 0.9705\n",
            "Epoch 9/50\n",
            "468/468 [==============================] - 33s 70ms/step - loss: 0.0971 - accuracy: 0.9706 - val_loss: 11.8926 - val_accuracy: 0.9739\n",
            "Epoch 10/50\n",
            "468/468 [==============================] - 33s 70ms/step - loss: 0.0899 - accuracy: 0.9730 - val_loss: 10.9048 - val_accuracy: 0.9779\n",
            "Epoch 11/50\n",
            "468/468 [==============================] - 33s 70ms/step - loss: 0.0835 - accuracy: 0.9750 - val_loss: 10.4322 - val_accuracy: 0.9778\n",
            "Epoch 12/50\n",
            "468/468 [==============================] - 33s 70ms/step - loss: 0.0789 - accuracy: 0.9763 - val_loss: 10.1450 - val_accuracy: 0.9785\n",
            "Epoch 13/50\n",
            "468/468 [==============================] - 33s 70ms/step - loss: 0.0749 - accuracy: 0.9774 - val_loss: 10.4996 - val_accuracy: 0.9750\n",
            "Epoch 14/50\n",
            "468/468 [==============================] - 33s 70ms/step - loss: 0.0713 - accuracy: 0.9785 - val_loss: 9.4033 - val_accuracy: 0.9790\n",
            "Epoch 15/50\n",
            "468/468 [==============================] - 33s 70ms/step - loss: 0.0674 - accuracy: 0.9796 - val_loss: 10.0086 - val_accuracy: 0.9770\n",
            "Epoch 16/50\n",
            "468/468 [==============================] - 33s 70ms/step - loss: 0.0645 - accuracy: 0.9805 - val_loss: 10.0118 - val_accuracy: 0.9797\n",
            "Epoch 17/50\n",
            "468/468 [==============================] - 33s 70ms/step - loss: 0.0633 - accuracy: 0.9806 - val_loss: 8.3121 - val_accuracy: 0.9830\n",
            "Epoch 18/50\n",
            "468/468 [==============================] - 33s 70ms/step - loss: 0.0590 - accuracy: 0.9818 - val_loss: 8.5482 - val_accuracy: 0.9827\n",
            "Epoch 19/50\n",
            "468/468 [==============================] - 33s 70ms/step - loss: 0.0583 - accuracy: 0.9825 - val_loss: 7.9239 - val_accuracy: 0.9825\n",
            "Epoch 20/50\n",
            "468/468 [==============================] - 33s 70ms/step - loss: 0.0558 - accuracy: 0.9831 - val_loss: 8.1025 - val_accuracy: 0.9822\n",
            "Epoch 21/50\n",
            "468/468 [==============================] - 33s 70ms/step - loss: 0.0542 - accuracy: 0.9836 - val_loss: 7.2567 - val_accuracy: 0.9841\n",
            "Epoch 22/50\n",
            "468/468 [==============================] - 33s 70ms/step - loss: 0.0518 - accuracy: 0.9841 - val_loss: 10.3340 - val_accuracy: 0.9790\n",
            "Epoch 23/50\n",
            "468/468 [==============================] - 33s 70ms/step - loss: 0.0502 - accuracy: 0.9847 - val_loss: 8.0974 - val_accuracy: 0.9837\n",
            "Epoch 24/50\n",
            "468/468 [==============================] - 33s 70ms/step - loss: 0.0496 - accuracy: 0.9855 - val_loss: 7.9543 - val_accuracy: 0.9837\n",
            "Epoch 25/50\n",
            "468/468 [==============================] - 33s 71ms/step - loss: 0.0478 - accuracy: 0.9853 - val_loss: 7.6162 - val_accuracy: 0.9838\n",
            "Epoch 26/50\n",
            "468/468 [==============================] - 33s 71ms/step - loss: 0.0454 - accuracy: 0.9858 - val_loss: 7.6345 - val_accuracy: 0.9838\n",
            "Epoch 27/50\n",
            "468/468 [==============================] - 33s 71ms/step - loss: 0.0462 - accuracy: 0.9859 - val_loss: 7.8357 - val_accuracy: 0.9843\n",
            "Epoch 28/50\n",
            "468/468 [==============================] - 33s 71ms/step - loss: 0.0430 - accuracy: 0.9872 - val_loss: 8.1688 - val_accuracy: 0.9835\n",
            "Epoch 29/50\n",
            "468/468 [==============================] - 33s 71ms/step - loss: 0.0432 - accuracy: 0.9870 - val_loss: 7.3828 - val_accuracy: 0.9852\n",
            "Epoch 30/50\n",
            "468/468 [==============================] - 33s 71ms/step - loss: 0.0419 - accuracy: 0.9874 - val_loss: 7.5105 - val_accuracy: 0.9850\n",
            "Epoch 31/50\n",
            "468/468 [==============================] - 33s 71ms/step - loss: 0.0405 - accuracy: 0.9877 - val_loss: 8.2734 - val_accuracy: 0.9833\n",
            "Epoch 32/50\n",
            "468/468 [==============================] - 33s 71ms/step - loss: 0.0393 - accuracy: 0.9877 - val_loss: 8.1904 - val_accuracy: 0.9840\n",
            "Epoch 33/50\n",
            "468/468 [==============================] - 33s 72ms/step - loss: 0.0389 - accuracy: 0.9877 - val_loss: 7.6968 - val_accuracy: 0.9845\n",
            "Epoch 34/50\n",
            "468/468 [==============================] - 33s 71ms/step - loss: 0.0379 - accuracy: 0.9884 - val_loss: 7.1959 - val_accuracy: 0.9854\n",
            "Epoch 35/50\n",
            "468/468 [==============================] - 33s 71ms/step - loss: 0.0374 - accuracy: 0.9886 - val_loss: 7.9622 - val_accuracy: 0.9845\n",
            "Epoch 36/50\n",
            "468/468 [==============================] - 33s 71ms/step - loss: 0.0366 - accuracy: 0.9885 - val_loss: 6.8867 - val_accuracy: 0.9865\n",
            "Epoch 37/50\n",
            "468/468 [==============================] - 33s 71ms/step - loss: 0.0350 - accuracy: 0.9892 - val_loss: 7.4638 - val_accuracy: 0.9852\n",
            "Epoch 38/50\n",
            "468/468 [==============================] - 33s 71ms/step - loss: 0.0345 - accuracy: 0.9894 - val_loss: 6.9891 - val_accuracy: 0.9859\n",
            "Epoch 39/50\n",
            "468/468 [==============================] - 33s 71ms/step - loss: 0.0338 - accuracy: 0.9894 - val_loss: 7.5239 - val_accuracy: 0.9850\n",
            "Epoch 40/50\n",
            "468/468 [==============================] - 33s 71ms/step - loss: 0.0333 - accuracy: 0.9899 - val_loss: 7.7577 - val_accuracy: 0.9848\n",
            "Epoch 41/50\n",
            "468/468 [==============================] - 33s 71ms/step - loss: 0.0325 - accuracy: 0.9901 - val_loss: 9.5918 - val_accuracy: 0.9817\n",
            "Epoch 42/50\n",
            "468/468 [==============================] - 33s 71ms/step - loss: 0.0321 - accuracy: 0.9902 - val_loss: 7.2950 - val_accuracy: 0.9857\n",
            "Epoch 43/50\n",
            "468/468 [==============================] - 33s 71ms/step - loss: 0.0304 - accuracy: 0.9905 - val_loss: 7.0874 - val_accuracy: 0.9863\n",
            "Epoch 44/50\n",
            "468/468 [==============================] - 33s 71ms/step - loss: 0.0315 - accuracy: 0.9905 - val_loss: 7.5461 - val_accuracy: 0.9857\n",
            "Epoch 45/50\n",
            "468/468 [==============================] - 33s 71ms/step - loss: 0.0291 - accuracy: 0.9907 - val_loss: 6.9273 - val_accuracy: 0.9873\n",
            "Epoch 46/50\n",
            "468/468 [==============================] - 33s 71ms/step - loss: 0.0295 - accuracy: 0.9908 - val_loss: 7.6159 - val_accuracy: 0.9863\n",
            "Epoch 47/50\n",
            "468/468 [==============================] - 33s 71ms/step - loss: 0.0284 - accuracy: 0.9913 - val_loss: 9.5127 - val_accuracy: 0.9831\n",
            "Epoch 48/50\n",
            "468/468 [==============================] - 33s 71ms/step - loss: 0.0285 - accuracy: 0.9911 - val_loss: 6.7278 - val_accuracy: 0.9875\n",
            "Epoch 49/50\n",
            "468/468 [==============================] - 33s 71ms/step - loss: 0.0277 - accuracy: 0.9920 - val_loss: 7.3016 - val_accuracy: 0.9862\n",
            "Epoch 50/50\n",
            "468/468 [==============================] - 33s 71ms/step - loss: 0.0260 - accuracy: 0.9920 - val_loss: 8.8973 - val_accuracy: 0.9843\n",
            "313/313 [==============================] - 4s 11ms/step - loss: 8.8831 - accuracy: 0.9843\n",
            "98.430\n"
          ]
        },
        {
          "output_type": "display_data",
          "data": {
            "image/png": "[encoded data removed]",
            "text/plain": [
              "<Figure size 720x432 with 1 Axes>"
            ]
          },
          "metadata": {
            "needs_background": "light"
          }
        }
      ]
    },
    {
      "cell_type": "markdown",
      "metadata": {
        "id": "CvDAYzLr3aIU"
      },
      "source": [
        "### 5. Prediction\n"
      ]
    },
    {
      "cell_type": "code",
      "metadata": {
        "id": "1KWNdtEswydt"
      },
      "source": [
        "import numpy as np"
      ],
      "execution_count": 14,
      "outputs": []
    },
    {
      "cell_type": "code",
      "metadata": {
        "id": "td6uzZ_o3d1E"
      },
      "source": [
        "# predict labels for the test set\n",
        "y_test_pred = []\n",
        "for i in range(len(X_test)):\n",
        "  img = X_test[i]\n",
        "  img = img.reshape(1,28,28,1)\n",
        "  img = img.astype('float32')\n",
        "  img = img/255.0\n",
        "  # one-hot vector output\n",
        "  vec_p = LeNet_model.predict(img)\n",
        "  # determine the lable corresponding to vec_p\n",
        "  y_p = np.argmax(vec_p)\n",
        "  y_test_pred.append(y_p)"
      ],
      "execution_count": 15,
      "outputs": []
    },
    {
      "cell_type": "code",
      "metadata": {
        "id": "i8QPfpCe3gTG"
      },
      "source": [
        "# convert y_test_pred from list to array\n",
        "y_test_pred = np.asarray(y_test_pred)"
      ],
      "execution_count": 16,
      "outputs": []
    },
    {
      "cell_type": "markdown",
      "metadata": {
        "id": "ytBIEdrD7lVO"
      },
      "source": [
        "Determine the confusion matrix\n",
        "\n"
      ]
    },
    {
      "cell_type": "code",
      "metadata": {
        "id": "GEuDH7Fj7kV1"
      },
      "source": [
        "from sklearn.metrics import confusion_matrix\n",
        "import seaborn as sns "
      ],
      "execution_count": 17,
      "outputs": []
    },
    {
      "cell_type": "code",
      "metadata": {
        "colab": {
          "base_uri": "https://localhost:8080/",
          "height": 414
        },
        "id": "4I7EPzud7pbR",
        "outputId": "d5b586cb-6807-4a46-9038-de23785547f5"
      },
      "source": [
        "con_mat = confusion_matrix(y_test, y_test_pred)\n",
        "\n",
        "plt.figure(figsize = (8,6))\n",
        "sns.heatmap(con_mat, linewidths = 0.1, cmap = 'Greens', linecolor = 'gray', fmt = '.1f', annot = True)\n",
        "plt.xlabel('Predicted classes', fontsize = 20)\n",
        "plt.ylabel('True classes', fontsize = 20)"
      ],
      "execution_count": 18,
      "outputs": [
        {
          "output_type": "execute_result",
          "data": {
            "text/plain": [
              "Text(51.0, 0.5, 'True classes')"
            ]
          },
          "metadata": {},
          "execution_count": 18
        },
        {
          "output_type": "display_data",
          "data": {
            "image/png": "[encoded data removed]",
            "text/plain": [
              "<Figure size 576x432 with 2 Axes>"
            ]
          },
          "metadata": {
            "needs_background": "light"
          }
        }
      ]
    },
    {
      "cell_type": "markdown",
      "metadata": {
        "id": "RhUAOIBX7vAk"
      },
      "source": [
        "Visualize randomly some images in the test set as well as their predicted labels\n",
        "\n"
      ]
    },
    {
      "cell_type": "code",
      "metadata": {
        "id": "5qWIZcZZ7rQy"
      },
      "source": [
        "# all categories\n",
        "cates = ['0', '1', '2', '3', '4', '5', '6', '7', '8', '9']"
      ],
      "execution_count": 19,
      "outputs": []
    },
    {
      "cell_type": "code",
      "metadata": {
        "colab": {
          "base_uri": "https://localhost:8080/",
          "height": 417
        },
        "id": "Z_2Fn8dx7xrr",
        "outputId": "ffc7d654-6388-4eb1-b032-1ab1c5b85205"
      },
      "source": [
        "plt.figure(figsize = (12,7))\n",
        "for i in np.arange(8):\n",
        "  ind = random.randint(0,len(X_test))\n",
        "  img = X_test[ind]\n",
        "  img = img.reshape(1,28,28,1)\n",
        "  img = img.astype('float32')\n",
        "  img = img/255.0\n",
        "  v_p = LeNet_model.predict(img)\n",
        "  v_p = np.round(v_p).astype(int)\n",
        "  plt.subplot(240+1+i)\n",
        "  plt.imshow(X_test[ind])\n",
        "  plt.title(cates[np.argmax(v_p[0])])"
      ],
      "execution_count": 20,
      "outputs": [
        {
          "output_type": "display_data",
          "data": {
            "image/png": "[encoded data removed]",
            "text/plain": [
              "<Figure size 864x504 with 8 Axes>"
            ]
          },
          "metadata": {
            "needs_background": "light"
          }
        }
      ]
    }
  ]
}